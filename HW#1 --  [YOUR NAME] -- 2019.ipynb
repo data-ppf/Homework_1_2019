{
 "cells": [
  {
   "cell_type": "markdown",
   "metadata": {
    "collapsed": true
   },
   "source": [
    "## Homework 1  | Pandas, Exploratory Data Analysis, & Data Provenance\n",
    "### ASSIGNED: Monday, 11 Feb 2019.   DUE: Thurday, 21 Feb 2018 at 9:30 am. \n",
    "<b>PLEASE NOTE: If you're in a technical major, you should not submit either homework #1 (e.g., this homework) or homework #2 to be graded. You may still do this homework if you are unfamiliar python.</b>"
   ]
  },
  {
   "cell_type": "markdown",
   "metadata": {},
   "source": [
    "#### Purpose:\n",
    "The purpose of this assignment is to \n",
    "1. introduce you to working in python and pandas, \n",
    "2. heighten your critical acumen when evaluating claims using data,\n",
    "3. and make you more sensitive to questions regarding data provenance.  "
   ]
  },
  {
   "cell_type": "markdown",
   "metadata": {},
   "source": [
    "## Data Provenance & EDA\n",
    "\n",
    "Alain Desrosieres argues that the central tension in histories examining the role of statistics in political discourse is that the statistical entities that statistics uses are both real and fabrications: real in that they must be taken as “uncontestable standards” of reference insofar as they serve as  compelling evidence for a particular claim; fabrications in that they are the result of “the provisional and fragile crowning of a series of conventions of equivalence between entities.”[1] The statistical entity of life expectancy, for instance, is real insofar as it serves as a proxy for the health of populations and individuals, and is used to justify disparities in health and life insurance pricing and coverage for different populations. Yet in calculating life expectancy, one quickly discovers not a single computational method, but hundreds--each with a different set of assumptions that yield different results. Deciding which life expectancy estimation to employ is tied up with what the measure will be used to do, and so involves political, ethical, and even moral decisions about who and what should be counted and excluded.[2] \n",
    "\n",
    "Tracing the historical transformation of a statistical entity from a contingent, context-sensitive description into a “universal” property provides insight into the political institutions that created it while also making legible the ways in which a statistical entity exerted a reciprocal pressure back upon the institutions and individuals that created them.[3] Exploring the political implications of statistical entities is further complicated by their historical tendency to be repurposed for use in new arguments. While life expectancy was developed for assigning and categorizing individuals according to their likelihood of death while their life insurance policy was in force, this statistical category was subsequently put to more sinister purposes: namely, to “demonstrate” the existence of racial biological characteristics and then to serve as “evidence” that race was an appropriate category for screening immigrants.[4]\n",
    "\n",
    "<b>Our immediate objective is to get some practice using Pandas to explore a data set, but we also want to be mindful of the implicit assumptions using this data entails.</b> The data you'll be using was obtained at http://apps.who.int/gho/data/node.main.688 via the World Health Organization website. You can find a discussion of how they tabulate life expectancy in this PDF[http://www.who.int/healthinfo/statistics/LT_method_1990_2012.pdf] for each country. In many cases, the life expectancies for different countries are not equally reliable. To wit, for many countries life expectancies were inferred rather than being observed directly. Both the sources and amounts of error can be very different for different countries. Furthermore, life expectancy as calculated by WHO may not match the \"official\" life expectancy values as calculated by each country. If you want to make any claims regarding the data you're about to explore, you would first need to know what methods, data, and politics were involved in producing a life expectancy measurement for each country you're examining. As you perform some basic EDA below, ask yourself if the comparisons you're being asked to perform are ethical. For what decisions and contexts would such comparisons be unethical?\n",
    "\n",
    "\n",
    "[1] Alain Desrosieres, <em>The Politics of Large Numbers: A History of Statistical Reasoning</em>, Cambridge, MA: Harvard University Press, 1998, 324-325.\n",
    "\n",
    "[2] Desrosieres, <em>The Politics of Large Numbers</em>, 325.\n",
    "\n",
    "[3]Desrosieres, <em>The Politics of Large Numbers</em>, 324.\n",
    "\n",
    "[4] Dan Bouk, <em>How Our Days Became Numbered: Risk and the Rise of the Statistical Individual</em>, Chicago, IL: University of Chicago Press, 187-188, 201-202."
   ]
  },
  {
   "cell_type": "markdown",
   "metadata": {},
   "source": [
    "## Instructions \n",
    "#### This assignment is to be done on your own, but you can talk about the assignment with your classmates if you get stuck. (If you do this, be sure to mention who you worked with in the space provided below.) Feel free to also use stackoverflow (but please provide citation and link to the specific answer if you do this). Finally, you may also visit Will Yumou during his TA office hours. Provide your code to justify your answer to each question.  \n",
    "\n",
    "#### Be sure to rename this homework notebook so that it includes your name. Finally, please note that your code must run with the \"life.expectancy.countries.csv\" as originally provided to you. \n",
    "\n",
    "#### List any students you talked with about this assignment here:\n",
    "1. [person 1]\n",
    "2. [person 2]\n",
    "3. etc.\n",
    "\n",
    "\n",
    "## Homework Problems\n"
   ]
  },
  {
   "cell_type": "markdown",
   "metadata": {},
   "source": [
    "#### Question 1 (10 points)\n",
    "\n",
    "Import the life.expectancy.countries.csv file into a pandas dataframe entitled \"lifeexpectancy\". Rename the column titles of this data frame using the list below entitled \"column_names\". Use the code provided below to help you do this. Also be sure to drop the first row of your CSV using the following code: \n",
    "\n",
    "`lifeexpectancy = lifeexpectancy.drop(lifeexpectancy.index[[0]])`  "
   ]
  },
  {
   "cell_type": "code",
   "execution_count": 1,
   "metadata": {},
   "outputs": [],
   "source": [
    "column_names = [\"country\", \"year\", \"life expectancy at birth (both sexes)\", \\\n",
    "                          \"life expectancy at birth (female)\", \"life expectancy at birth (male)\", \\\n",
    "                          \"life expectancy at age 60 (both sexes)\", \"life expectancy at age 60 (female)\", \\\n",
    "                          \"life expectancy at age 60 (male)\"]"
   ]
  },
  {
   "cell_type": "code",
   "execution_count": 2,
   "metadata": {},
   "outputs": [],
   "source": [
    "import pandas as pd\n",
    "import matplotlib.pyplot as plt\n",
    "import numpy as np\n",
    "%matplotlib inline"
   ]
  },
  {
   "cell_type": "code",
   "execution_count": 3,
   "metadata": {},
   "outputs": [],
   "source": [
    "# TYPE ANSWER HERE\n",
    "\n",
    "\n",
    "\n",
    "\n"
   ]
  },
  {
   "cell_type": "markdown",
   "metadata": {},
   "source": [
    "<b>Important</b>: For the current version of pandas, when you import \"life.expectancy.countries.csv\" into pandas in the usual manner, it sets all the life expectancy ages (i.e., columns 2 - 7) as \"objects\" instead of \"floats\". I'm not sure why it does this, but it will cause problems when you try to plot things. To fix this, be sure to run the following line of code once you've <b>finished</b> question 1 but before you begin question 2: "
   ]
  },
  {
   "cell_type": "code",
   "execution_count": 4,
   "metadata": {},
   "outputs": [],
   "source": [
    "lifeexpectancy.loc[:, 'life expectancy at birth (both sexes)':] = lifeexpectancy.loc[:, 'life expectancy at birth (both sexes)':].astype(float)"
   ]
  },
  {
   "cell_type": "markdown",
   "metadata": {},
   "source": [
    "#### Question 2 (10 points) \n",
    "\n",
    "How many different _countries_ do you have data for? How many different years of life expectancy data do you have for each country? "
   ]
  },
  {
   "cell_type": "code",
   "execution_count": 4,
   "metadata": {},
   "outputs": [],
   "source": [
    "# TYPE CODE HERE\n",
    "\n",
    "\n",
    "\n"
   ]
  },
  {
   "cell_type": "markdown",
   "metadata": {},
   "source": [
    "#### Question 3 (5 points)\n",
    "\n",
    "Using pandas, make a new dataframe that contains all the data for Brazil. \n",
    "\n",
    "Hint: the following pseudocode gives you a general idea of what you need to do: \n",
    "\n",
    "<code> lifeexpectancy[lifeexpectancy['column title']=='Name_of_Country']</code>."
   ]
  },
  {
   "cell_type": "code",
   "execution_count": 12,
   "metadata": {},
   "outputs": [],
   "source": [
    "# TYPE ANSWER HERE\n",
    "\n",
    "\n",
    "\n"
   ]
  },
  {
   "cell_type": "markdown",
   "metadata": {},
   "source": [
    "#### Question 4 (5 points)\n",
    "\n",
    "Plot life expectancy (from birth, \"both sexes\") as a function of year for Brazil using the dataframe you constructed in question 3.  "
   ]
  },
  {
   "cell_type": "code",
   "execution_count": 13,
   "metadata": {},
   "outputs": [],
   "source": [
    "# TYPE ANSWER HERE\n",
    "\n",
    "\n"
   ]
  },
  {
   "cell_type": "markdown",
   "metadata": {},
   "source": [
    "#### Question 5 (10 points)\n",
    "\n",
    "Which country has the highest life expectancy (from birth) for men, women, and both sexes? What are the associated years for each of these life expectancies? (Be sure to show your code!)"
   ]
  },
  {
   "cell_type": "code",
   "execution_count": 14,
   "metadata": {},
   "outputs": [],
   "source": [
    "# TYPE ANSWER HERE\n",
    "\n",
    "\n",
    "\n"
   ]
  },
  {
   "cell_type": "markdown",
   "metadata": {},
   "source": [
    "#### Question 6 (30 points)\n",
    "\n",
    "Using life expectancy data for \"both sexes\" from birth, which country has the fastest growing life expectancy on average for all years provided? Likewise, which country has the slowest growing (or even fastest decreasing) life expectancy on average for all years provided? Using pandas, plot the life expectancy of these two countries as a function of year in the same graph. <b>Suggestion: If you find yourself getting stuck on this question, consider doing questions 7 and 8 first and then coming back to this question.</b>"
   ]
  },
  {
   "cell_type": "code",
   "execution_count": 21,
   "metadata": {},
   "outputs": [],
   "source": [
    "# TYPE ANSWER HERE\n",
    "\n",
    "# HINT 1: \n",
    "# We're going to treat years as number, and in order to do this we need to change years to floats or ints.\n",
    "# You don't have to solve it this way, but this is one way to do it.\n",
    "\n",
    "# Set years to floats.\n",
    "# Note that some values are NaNs, which floats convert without warning, so do this with care...\n",
    "lifeexpectancy.loc[:, 'year':] = lifeexpectancy.loc[:, 'year':].astype(float)\n",
    "\n",
    "\n",
    "# HINT #2: \n",
    "# Determine slopes for all countries for entire time period of the data set\n",
    "\n",
    "# HINT #3:\n",
    "# Identify which which country has most extreme positive slope and which country has most extreme negative slope \n",
    "\n",
    "# HINT #4:\n",
    "# Graph both countries in the same plot"
   ]
  },
  {
   "cell_type": "markdown",
   "metadata": {},
   "source": [
    "#### Question 7 (15 points)\n",
    "\n",
    "Pick 3 countries you'd like to compare, and plot their life expectancies (from birth, \"both sexes\") on the same graph.  "
   ]
  },
  {
   "cell_type": "code",
   "execution_count": 17,
   "metadata": {},
   "outputs": [],
   "source": [
    "# TYPE ANSWER HERE\n",
    "\n"
   ]
  },
  {
   "cell_type": "markdown",
   "metadata": {},
   "source": [
    "#### Question 8 (15 points)\n",
    "\n",
    "Plot the _average life expectancy_ for _all_ countries as a function of year.  "
   ]
  },
  {
   "cell_type": "code",
   "execution_count": 18,
   "metadata": {},
   "outputs": [],
   "source": [
    "# TYPE ANSWER HERE\n",
    "\n"
   ]
  }
 ],
 "metadata": {
  "kernelspec": {
   "display_name": "Python 3",
   "language": "python",
   "name": "python3"
  },
  "language_info": {
   "codemirror_mode": {
    "name": "ipython",
    "version": 3
   },
   "file_extension": ".py",
   "mimetype": "text/x-python",
   "name": "python",
   "nbconvert_exporter": "python",
   "pygments_lexer": "ipython3",
   "version": "3.7.2"
  }
 },
 "nbformat": 4,
 "nbformat_minor": 2
}
